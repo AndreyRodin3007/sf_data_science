{
 "cells": [
  {
   "cell_type": "code",
   "execution_count": 6,
   "id": "d15f37f2-6aa4-4e2b-bb86-c58a9bb89ef6",
   "metadata": {},
   "outputs": [],
   "source": [
    "import random\n",
    "from kaggle_environments import make, evaluate"
   ]
  },
  {
   "cell_type": "markdown",
   "id": "37bd428b-6a3c-4fe3-8f7f-6f971336ebeb",
   "metadata": {},
   "source": [
    "### Список возможных действий"
   ]
  },
  {
   "cell_type": "code",
   "execution_count": 19,
   "id": "f25f3b00-a84c-4f5a-b48a-53f3dcbf6392",
   "metadata": {},
   "outputs": [],
   "source": [
    "ACTIONS = [\"ROCK\", \"PAPER\", \"SCISSORS\"]"
   ]
  },
  {
   "cell_type": "markdown",
   "id": "35f7e8e7-0507-4d6a-a65a-0de1b9bfd766",
   "metadata": {},
   "source": [
    "### Агенты"
   ]
  },
  {
   "cell_type": "code",
   "execution_count": 21,
   "id": "998bc054-1878-4872-b892-30b243fa7379",
   "metadata": {},
   "outputs": [],
   "source": [
    "# Агент, играющий случайным образом\n",
    "def random_agent(observation, configuration):\n",
    "    return random.choice(ACTIONS)\n",
    "\n",
    "# Агент, всегда выбирающий камень\n",
    "def rock_agent(observation, configuration):\n",
    "    return \"ROCK\"\n",
    "\n",
    "# Агент, всегда выбирающий бумагу\n",
    "def paper_agent(observation, configuration):\n",
    "    return \"PAPER\"\n",
    "\n",
    "# Агент, всегда выбирающий ножницы\n",
    "def scissors_agent(observation, configuration):\n",
    "    return \"SCISSORS\"\n",
    "\n",
    "# Агент, копирующий предыдущее действие оппонента\n",
    "def copycat_agent(observation, configuration):\n",
    "    if observation.step > 0:\n",
    "        return observation.lastOpponentAction\n",
    "    else:\n",
    "        return random.choice(ACTIONS)\n",
    "\n",
    "# Агент, противодействующий предыдущему действию оппонента\n",
    "def counter_agent(observation, configuration):\n",
    "    if observation.step > 0:\n",
    "        opponent_action = observation.lastOpponentAction\n",
    "        if opponent_action == \"ROCK\":\n",
    "            return \"PAPER\"\n",
    "        elif opponent_action == \"PAPER\":\n",
    "            return \"SCISSORS\"\n",
    "        else:\n",
    "            return \"ROCK\"\n",
    "    else:\n",
    "        return random.choice(ACTIONS)\n",
    "\n",
    "\n",
    "# Агенты, циклически меняющие действия\n",
    "def rock_paper_scissors_agent(observation, configuration):\n",
    "  return ACTIONS[observation.step % 3]\n",
    "\n",
    "def paper_scissors_rock_agent(observation, configuration):\n",
    "  return ACTIONS[(observation.step + 1) % 3]\n",
    "\n",
    "def scissors_rock_paper_agent(observation, configuration):\n",
    "  return ACTIONS[(observation.step + 2) % 3]\n",
    "\n",
    "\n",
    "# Агенты, использующие статистику (простейший пример)\n",
    "def statistical_agent(observation, configuration):\n",
    "    if observation.step > 10:\n",
    "        opponent_actions = observation.opponent_actions\n",
    "        most_common = max(set(opponent_actions), key=opponent_actions.count)\n",
    "\n",
    "        if most_common == \"ROCK\":\n",
    "            return \"PAPER\"\n",
    "        elif most_common == \"PAPER\":\n",
    "            return \"SCISSORS\"\n",
    "        else:\n",
    "            return \"ROCK\"\n",
    "    else:\n",
    "        return random.choice(ACTIONS)\n",
    "\n",
    "# Агент, случайным образом выбирающий между двумя вариантами\n",
    "def rock_paper_agent(observation, configuration):\n",
    "    return random.choice([\"ROCK\", \"PAPER\"])\n",
    "\n",
    "def paper_scissors_agent(observation, configuration):\n",
    "    return random.choice([\"PAPER\", \"SCISSORS\"])\n",
    "\n",
    "def scissors_rock_agent(observation, configuration):\n",
    "    return random.choice([\"SCISSORS\", \"ROCK\"])\n"
   ]
  },
  {
   "cell_type": "markdown",
   "id": "fc759f39-442e-4565-b35e-c45cc772d7e6",
   "metadata": {},
   "source": [
    "### Список агентов для турнира"
   ]
  },
  {
   "cell_type": "code",
   "execution_count": 37,
   "id": "f821bae7-ce6c-40a4-aeb9-d3d739c24cc1",
   "metadata": {},
   "outputs": [],
   "source": [
    "agents = [scissors_agent, rock_agent, paper_agent, random_agent, copycat_agent, counter_agent, rock_paper_scissors_agent, paper_scissors_rock_agent, scissors_rock_paper_agent, statistical_agent, rock_paper_agent, paper_scissors_agent, scissors_rock_agent]"
   ]
  },
  {
   "cell_type": "markdown",
   "id": "f7586e83-0afd-441b-ab57-7a95fdb75a29",
   "metadata": {},
   "source": [
    "### Создание окружения"
   ]
  },
  {
   "cell_type": "code",
   "execution_count": 39,
   "id": "7fd98771-0105-402e-bcec-2f332f2ca781",
   "metadata": {},
   "outputs": [],
   "source": [
    "env = make(\"rps\", configuration={\"episodeSteps\": 100}, debug=True)"
   ]
  },
  {
   "cell_type": "markdown",
   "id": "c9bb5fcb-8a05-4917-9401-d0adf4c51b81",
   "metadata": {},
   "source": [
    "### Запуск турнира (каждый агент играет с каждым)"
   ]
  },
  {
   "cell_type": "code",
   "execution_count": 41,
   "id": "b450f3be-11c7-42a9-88b3-02b0a493b31e",
   "metadata": {},
   "outputs": [],
   "source": [
    "results = evaluate(\"rps\", agents, configuration={\"episodeSteps\": 100}, num_episodes=10)"
   ]
  },
  {
   "cell_type": "markdown",
   "id": "3b338b4d-9ec6-43ae-9bc5-2b64f5aa22dd",
   "metadata": {},
   "source": [
    "### Вывод результатов"
   ]
  },
  {
   "cell_type": "code",
   "execution_count": 43,
   "id": "13761e38-80e8-446c-80a2-b77abc4f0ae7",
   "metadata": {},
   "outputs": [
    {
     "name": "stdout",
     "output_type": "stream",
     "text": [
      "[[None, None], [None, None], [None, None], [None, None], [None, None], [None, None], [None, None], [None, None], [None, None], [None, None]]\n"
     ]
    }
   ],
   "source": [
    "print(results)"
   ]
  },
  {
   "cell_type": "markdown",
   "id": "b833e626-43c0-4a53-9827-8257f5af20d9",
   "metadata": {},
   "source": [
    "### Визуализация одной игры (опционально)"
   ]
  },
  {
   "cell_type": "code",
   "execution_count": null,
   "id": "3769b589-f5f9-4ded-9d56-bab886508df5",
   "metadata": {},
   "outputs": [],
   "source": [
    "env.run([random_agent, rock_agent])\n",
    "env.render(mode=\"ipython\", width=500, height=450)"
   ]
  }
 ],
 "metadata": {
  "kernelspec": {
   "display_name": "Python 3 (ipykernel)",
   "language": "python",
   "name": "python3"
  },
  "language_info": {
   "codemirror_mode": {
    "name": "ipython",
    "version": 3
   },
   "file_extension": ".py",
   "mimetype": "text/x-python",
   "name": "python",
   "nbconvert_exporter": "python",
   "pygments_lexer": "ipython3",
   "version": "3.12.4"
  }
 },
 "nbformat": 4,
 "nbformat_minor": 5
}
